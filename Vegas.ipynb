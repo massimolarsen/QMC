{
 "cells": [
  {
   "cell_type": "code",
   "execution_count": 1,
   "id": "1eb1cb53",
   "metadata": {},
   "outputs": [],
   "source": [
    "import numpy as np\n",
    "import numpy.random as random\n",
    "from scipy.stats import qmc\n",
    "import matplotlib.pyplot as plt\n",
    "from mpl_toolkits import mplot3d\n",
    "import vegas"
   ]
  },
  {
   "cell_type": "markdown",
   "id": "31dd7d50",
   "metadata": {},
   "source": [
    "## 1D Sampling"
   ]
  },
  {
   "cell_type": "markdown",
   "id": "9065be89",
   "metadata": {},
   "source": [
    "Practice using the VEGAS algorithm"
   ]
  },
  {
   "cell_type": "markdown",
   "id": "25fca086",
   "metadata": {},
   "source": [
    "##### First moment convergence"
   ]
  },
  {
   "cell_type": "markdown",
   "id": "e6d7555b",
   "metadata": {},
   "source": [
    "Converging to $$\\int_0^2 x \\, 3x^2 \\, dx = 12$$"
   ]
  },
  {
   "cell_type": "code",
   "execution_count": 9,
   "id": "0fe3f0e1",
   "metadata": {},
   "outputs": [
    {
     "name": "stdout",
     "output_type": "stream",
     "text": [
      "itn   integral        wgt average     chi2/dof        Q\n",
      "-------------------------------------------------------\n",
      "  1   12.0053(46)     12.0053(46)         0.00     1.00\n",
      "  2   11.9976(32)     12.0002(27)         1.89     0.17\n",
      "  3   12.0026(30)     12.0012(20)         1.14     0.32\n",
      "  4   11.9964(29)     11.9997(16)         1.37     0.25\n",
      "  5   11.9982(31)     11.9994(15)         1.08     0.37\n",
      "  6   11.9954(35)     11.9988(13)         1.08     0.37\n",
      "  7   12.0035(35)     11.9994(13)         1.16     0.32\n",
      "  8   12.0013(43)     11.9996(12)         1.02     0.41\n",
      "  9   11.9962(45)     11.9993(12)         0.96     0.46\n",
      " 10   12.0054(50)     11.9996(11)         1.01     0.43\n",
      "\n",
      "[11.9996(11)] 0.4322963618705419\n"
     ]
    }
   ],
   "source": [
    "def f(x):\n",
    "   return x * 3*x**2\n",
    "\n",
    "integ = vegas.Integrator([[0,2]])\n",
    "\n",
    "result = integ(f, nitn=10, neval=1000)\n",
    "print(result.summary())\n",
    "print(result, result.Q)"
   ]
  },
  {
   "cell_type": "markdown",
   "id": "f6fb9077",
   "metadata": {},
   "source": [
    "###### Second moment convergence"
   ]
  },
  {
   "cell_type": "markdown",
   "id": "832ca419",
   "metadata": {},
   "source": [
    "Converging to $$\\int_0^2 x^2 \\, 3x^2 \\, dx = 19.2$$"
   ]
  },
  {
   "cell_type": "code",
   "execution_count": 11,
   "id": "e612d1a6",
   "metadata": {},
   "outputs": [
    {
     "name": "stdout",
     "output_type": "stream",
     "text": [
      "itn   integral        wgt average     chi2/dof        Q\n",
      "-------------------------------------------------------\n",
      "  1   19.214(11)      19.214(11)          0.00     1.00\n",
      "  2   19.1927(57)     19.1973(50)         3.08     0.08\n",
      "  3   19.1991(52)     19.1982(36)         1.57     0.21\n",
      "  4   19.1998(51)     19.1987(30)         1.07     0.36\n",
      "  5   19.2023(51)     19.1996(26)         0.89     0.47\n",
      "  6   19.1957(57)     19.1990(23)         0.79     0.55\n",
      "  7   19.1991(61)     19.1990(22)         0.66     0.68\n",
      "  8   19.1974(64)     19.1988(21)         0.57     0.78\n",
      "  9   19.2008(82)     19.1989(20)         0.51     0.85\n",
      " 10   19.2123(76)     19.1998(19)         0.78     0.64\n",
      "\n",
      "[19.1998(19)] 0.6363850618338693\n"
     ]
    }
   ],
   "source": [
    "def f(x):\n",
    "   return x**2 * 3*x**2\n",
    "\n",
    "integ = vegas.Integrator([[0,2]])\n",
    "\n",
    "result = integ(f, nitn=10, neval=1000)\n",
    "print(result.summary())\n",
    "print(result, result.Q)"
   ]
  },
  {
   "cell_type": "markdown",
   "id": "9d8f746c",
   "metadata": {},
   "source": [
    "##### Third moment convergence"
   ]
  },
  {
   "cell_type": "markdown",
   "id": "ea0b6b92",
   "metadata": {},
   "source": [
    "Converging to $$\\int_0^2 x^3 \\, 3x^2 \\, dx = 32$$"
   ]
  },
  {
   "cell_type": "code",
   "execution_count": 15,
   "id": "c4fe2a53",
   "metadata": {},
   "outputs": [
    {
     "name": "stdout",
     "output_type": "stream",
     "text": [
      "itn   integral        wgt average     chi2/dof        Q\n",
      "-------------------------------------------------------\n",
      "  1   31.99978(98)    31.99978(98)        0.00     1.00\n",
      "  2   32.00066(46)    32.00050(42)        0.66     0.42\n",
      "  3   32.00045(39)    32.00047(29)        0.33     0.72\n",
      "  4   31.99961(37)    32.00015(23)        1.36     0.25\n",
      "  5   31.99976(36)    32.00004(19)        1.23     0.29\n",
      "  6   32.00047(35)    32.00014(17)        1.22     0.29\n",
      "  7   32.00057(36)    32.00021(15)        1.21     0.30\n",
      "  8   31.99966(38)    32.00014(14)        1.31     0.24\n",
      "  9   32.00022(40)    32.00014(13)        1.15     0.32\n",
      " 10   32.00047(42)    32.00017(13)        1.08     0.37\n",
      "\n",
      "[32.00017(13)] 0.3698844331867859\n"
     ]
    }
   ],
   "source": [
    "def f(x):\n",
    "   return x**3 * 3*x**2\n",
    "\n",
    "integ = vegas.Integrator([[0,2]])\n",
    "\n",
    "result = integ(f, nitn=10, neval=10000)\n",
    "print(result.summary())\n",
    "print(result, result.Q)"
   ]
  },
  {
   "cell_type": "markdown",
   "id": "2dd6d7be",
   "metadata": {},
   "source": [
    "##### Fourth moment convergence"
   ]
  },
  {
   "cell_type": "markdown",
   "id": "1b69c84a",
   "metadata": {},
   "source": [
    "Converging to $$\\int_0^2 x^4 \\, 3x^2 \\, dx = \\frac{384}{7} = 54.857$$"
   ]
  },
  {
   "cell_type": "code",
   "execution_count": 14,
   "id": "53e4130b",
   "metadata": {},
   "outputs": [
    {
     "name": "stdout",
     "output_type": "stream",
     "text": [
      "itn   integral        wgt average     chi2/dof        Q\n",
      "-------------------------------------------------------\n",
      "  1   54.821(52)      54.821(52)          0.00     1.00\n",
      "  2   54.864(22)      54.858(20)          0.59     0.44\n",
      "  3   54.855(18)      54.856(13)          0.30     0.74\n",
      "  4   54.850(16)      54.854(10)          0.23     0.88\n",
      "  5   54.844(17)      54.8512(87)         0.23     0.92\n",
      "  6   54.869(17)      54.8549(78)         0.36     0.87\n",
      "  7   54.844(17)      54.8531(71)         0.35     0.91\n",
      "  8   54.883(19)      54.8566(66)         0.60     0.76\n",
      "  9   54.850(21)      54.8560(63)         0.53     0.83\n",
      " 10   54.859(22)      54.8562(61)         0.48     0.89\n",
      "\n",
      "[54.8562(61)] 0.8917950756660998\n"
     ]
    }
   ],
   "source": [
    "def f(x):\n",
    "   return x**4 * 3*x**2\n",
    "\n",
    "integ = vegas.Integrator([[0,2]])\n",
    "\n",
    "result = integ(f, nitn=10, neval=1000)\n",
    "print(result.summary())\n",
    "print(result, result.Q)"
   ]
  },
  {
   "cell_type": "markdown",
   "id": "748feb08",
   "metadata": {},
   "source": [
    "## 3D Sampling"
   ]
  },
  {
   "cell_type": "markdown",
   "id": "69cab28d",
   "metadata": {},
   "source": [
    "Converging to \n",
    "\n",
    "$$\\int_0^2 \\int_0^2 \\int_0^2 x y z \\, 27x^2y^2z^2 = 1728$$"
   ]
  },
  {
   "cell_type": "code",
   "execution_count": 16,
   "id": "16da14c1",
   "metadata": {},
   "outputs": [
    {
     "name": "stdout",
     "output_type": "stream",
     "text": [
      "itn   integral        wgt average     chi2/dof        Q\n",
      "-------------------------------------------------------\n",
      "  1   1703(76)        1703(76)            0.00     1.00\n",
      "  2   1727(20)        1725(19)            0.09     0.76\n",
      "  3   1759(16)        1745(13)            0.95     0.39\n",
      "  4   1717(14)        1732.0(9.2)         1.40     0.24\n",
      "  5   1735(13)        1732.9(7.6)         1.06     0.37\n",
      "  6   1713(12)        1726.9(6.3)         1.25     0.28\n",
      "  7   1729(10)        1727.6(5.4)         1.05     0.39\n",
      "  8   1727.4(9.2)     1727.5(4.6)         0.90     0.51\n",
      "  9   1724.8(8.9)     1727.0(4.1)         0.80     0.61\n",
      " 10   1728.0(7.5)     1727.2(3.6)         0.71     0.70\n",
      "\n",
      "1727.2(3.6) 0.7014980130777133\n"
     ]
    }
   ],
   "source": [
    "def f(x):\n",
    "   return x[0]*x[1]*x[2] * 27*x[0]**2*x[1]**2*x[2]**2\n",
    "\n",
    "integ = vegas.Integrator([[0,2],[0,2],[0,2]])\n",
    "\n",
    "result = integ(f, nitn=10, neval=1000)\n",
    "print(result.summary())\n",
    "print(result, result.Q)"
   ]
  },
  {
   "cell_type": "markdown",
   "id": "a2cde62d",
   "metadata": {},
   "source": [
    "Converging to \n",
    "\n",
    "$$\\int_0^2 \\int_0^2 \\int_0^2 (x+y)z \\, (x+y)z= 49.778$$"
   ]
  },
  {
   "cell_type": "code",
   "execution_count": 17,
   "id": "f8b4d02c",
   "metadata": {},
   "outputs": [
    {
     "name": "stdout",
     "output_type": "stream",
     "text": [
      "itn   integral        wgt average     chi2/dof        Q\n",
      "-------------------------------------------------------\n",
      "  1   49.63(50)       49.63(50)           0.00     1.00\n",
      "  2   49.72(33)       49.69(28)           0.02     0.88\n",
      "  3   50.07(28)       49.88(20)           0.45     0.64\n",
      "  4   49.93(26)       49.90(16)           0.31     0.82\n",
      "  5   49.84(24)       49.88(13)           0.24     0.91\n",
      "  6   49.30(21)       49.71(11)           1.28     0.27\n",
      "  7   49.77(19)       49.728(97)          1.08     0.37\n",
      "  8   49.66(18)       49.714(86)          0.94     0.48\n",
      "  9   49.77(16)       49.725(76)          0.83     0.57\n",
      " 10   49.81(16)       49.741(69)          0.77     0.65\n",
      "\n",
      "49.741(69) 0.6478663801474699\n"
     ]
    }
   ],
   "source": [
    "def f(x):\n",
    "   return (x[0]+x[1])*x[2] * (x[0]+x[1])*x[2]\n",
    "\n",
    "integ = vegas.Integrator([[0,2],[0,2],[0,2]])\n",
    "\n",
    "result = integ(f, nitn=10, neval=1000)\n",
    "print(result.summary())\n",
    "print(result, result.Q)"
   ]
  },
  {
   "cell_type": "code",
   "execution_count": null,
   "id": "b1ffac34",
   "metadata": {},
   "outputs": [],
   "source": []
  }
 ],
 "metadata": {
  "kernelspec": {
   "display_name": "Python 3 (ipykernel)",
   "language": "python",
   "name": "python3"
  },
  "language_info": {
   "codemirror_mode": {
    "name": "ipython",
    "version": 3
   },
   "file_extension": ".py",
   "mimetype": "text/x-python",
   "name": "python",
   "nbconvert_exporter": "python",
   "pygments_lexer": "ipython3",
   "version": "3.8.12"
  }
 },
 "nbformat": 4,
 "nbformat_minor": 5
}
