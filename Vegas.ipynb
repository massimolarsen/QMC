{
 "cells": [
  {
   "cell_type": "code",
   "execution_count": 3,
   "id": "1eb1cb53",
   "metadata": {},
   "outputs": [],
   "source": [
    "import numpy as np\n",
    "import numpy.random as random\n",
    "from scipy.stats import qmc\n",
    "import matplotlib.pyplot as plt\n",
    "from mpl_toolkits import mplot3d\n",
    "import vegas"
   ]
  },
  {
   "cell_type": "markdown",
   "id": "31dd7d50",
   "metadata": {},
   "source": [
    "## 1D Sampling"
   ]
  },
  {
   "cell_type": "markdown",
   "id": "9065be89",
   "metadata": {},
   "source": [
    "Practice using the VEGAS algorithm"
   ]
  },
  {
   "cell_type": "markdown",
   "id": "25fca086",
   "metadata": {},
   "source": [
    "##### First moment convergence"
   ]
  },
  {
   "cell_type": "markdown",
   "id": "e6d7555b",
   "metadata": {},
   "source": [
    "Converging to $$\\int_0^1 \\sqrt[3]{x} \\, dx = 0.75$$"
   ]
  },
  {
   "cell_type": "code",
   "execution_count": 6,
   "id": "0fe3f0e1",
   "metadata": {},
   "outputs": [
    {
     "name": "stdout",
     "output_type": "stream",
     "text": [
      "itn   integral        wgt average     chi2/dof        Q\n",
      "-------------------------------------------------------\n",
      "  1   0.75011(15)     0.75011(15)         0.00     1.00\n",
      "  2   0.750117(90)    0.750114(77)        0.00     0.96\n",
      "  3   0.74987(10)     0.750029(62)        1.75     0.17\n",
      "  4   0.74999(10)     0.750018(53)        1.21     0.30\n",
      "  5   0.74984(10)     0.749982(47)        1.48     0.21\n",
      "  6   0.75004(11)     0.749990(43)        1.22     0.30\n",
      "  7   0.75002(12)     0.749994(41)        1.03     0.40\n",
      "  8   0.75028(12)     0.750025(38)        1.63     0.12\n",
      "  9   0.75013(12)     0.750036(36)        1.52     0.14\n",
      " 10   0.74986(13)     0.750024(35)        1.53     0.13\n",
      "\n",
      "[0.750024(35)] 0.1300330777671907\n"
     ]
    }
   ],
   "source": [
    "def f(x):\n",
    "   return np.cbrt(x)\n",
    "\n",
    "integ = vegas.Integrator([[0,1]])\n",
    "\n",
    "result = integ(f, nitn=10, neval=1000)\n",
    "print(result.summary())\n",
    "print(result, result.Q)"
   ]
  },
  {
   "cell_type": "markdown",
   "id": "f6fb9077",
   "metadata": {},
   "source": [
    "###### Second moment convergence"
   ]
  },
  {
   "cell_type": "markdown",
   "id": "832ca419",
   "metadata": {},
   "source": [
    "Converging to $$\\int_0^1 \\sqrt[3]{x^2} \\, dx = 0.6$$"
   ]
  },
  {
   "cell_type": "code",
   "execution_count": 7,
   "id": "e612d1a6",
   "metadata": {},
   "outputs": [
    {
     "name": "stdout",
     "output_type": "stream",
     "text": [
      "itn   integral        wgt average     chi2/dof        Q\n",
      "-------------------------------------------------------\n",
      "  1   0.599909(76)    0.599909(76)        0.00     1.00\n",
      "  2   0.599925(90)    0.599916(58)        0.02     0.90\n",
      "  3   0.600065(96)    0.599956(50)        0.90     0.41\n",
      "  4   0.60010(10)     0.599983(45)        1.11     0.34\n",
      "  5   0.60000(12)     0.599985(42)        0.84     0.50\n",
      "  6   0.60018(12)     0.600006(40)        1.12     0.35\n",
      "  7   0.59985(13)     0.599994(38)        1.14     0.34\n",
      "  8   0.59974(14)     0.599976(37)        1.42     0.19\n",
      "  9   0.59997(15)     0.599976(36)        1.24     0.27\n",
      " 10   0.60015(15)     0.599985(35)        1.24     0.26\n",
      "\n",
      "[0.599985(35)] 0.26385099958494573\n"
     ]
    }
   ],
   "source": [
    "def f(x):\n",
    "   return np.cbrt(x**2)\n",
    "\n",
    "integ = vegas.Integrator([[0,1]])\n",
    "\n",
    "result = integ(f, nitn=10, neval=1000)\n",
    "print(result.summary())\n",
    "print(result, result.Q)"
   ]
  },
  {
   "cell_type": "markdown",
   "id": "9d8f746c",
   "metadata": {},
   "source": [
    "##### Third moment convergence"
   ]
  },
  {
   "cell_type": "markdown",
   "id": "ea0b6b92",
   "metadata": {},
   "source": [
    "Converging to $$\\int_0^1 \\sqrt[3]{x^3} \\, dx = 0.5$$"
   ]
  },
  {
   "cell_type": "code",
   "execution_count": 8,
   "id": "c4fe2a53",
   "metadata": {},
   "outputs": [
    {
     "name": "stdout",
     "output_type": "stream",
     "text": [
      "itn   integral        wgt average     chi2/dof        Q\n",
      "-------------------------------------------------------\n",
      "  1   0.5000020(30)   0.5000020(30)       0.00     1.00\n",
      "  2   0.4999973(32)   0.4999997(22)       1.14     0.29\n",
      "  3   0.4999971(34)   0.4999989(18)       0.79     0.45\n",
      "  4   0.4999995(36)   0.4999991(16)       0.53     0.66\n",
      "  5   0.5000077(39)   0.5000004(15)       1.45     0.21\n",
      "  6   0.5000003(42)   0.5000004(14)       1.16     0.32\n",
      "  7   0.4999937(45)   0.4999998(14)       1.30     0.26\n",
      "  8   0.5000023(50)   0.4999999(13)       1.14     0.33\n",
      "  9   0.5000059(55)   0.5000003(13)       1.14     0.33\n",
      " 10   0.4999987(60)   0.5000002(12)       1.02     0.42\n",
      "\n",
      "[0.5000002(12)] 0.4180058474598607\n"
     ]
    }
   ],
   "source": [
    "def f(x):\n",
    "   return np.cbrt(x**3)\n",
    "\n",
    "integ = vegas.Integrator([[0,1]])\n",
    "\n",
    "result = integ(f, nitn=10, neval=10000)\n",
    "print(result.summary())\n",
    "print(result, result.Q)"
   ]
  },
  {
   "cell_type": "markdown",
   "id": "2dd6d7be",
   "metadata": {},
   "source": [
    "##### Fourth moment convergence"
   ]
  },
  {
   "cell_type": "markdown",
   "id": "1b69c84a",
   "metadata": {},
   "source": [
    "Converging to $$\\int_0^1 \\sqrt[3]{x^4} \\, dx = \\frac{3}{7} = 0.42857$$"
   ]
  },
  {
   "cell_type": "code",
   "execution_count": 9,
   "id": "53e4130b",
   "metadata": {},
   "outputs": [
    {
     "name": "stdout",
     "output_type": "stream",
     "text": [
      "itn   integral        wgt average     chi2/dof        Q\n",
      "-------------------------------------------------------\n",
      "  1   0.428532(77)    0.428532(77)        0.00     1.00\n",
      "  2   0.428384(77)    0.428458(55)        1.85     0.17\n",
      "  3   0.428653(82)    0.428518(45)        2.88     0.06\n",
      "  4   0.428575(87)    0.428530(40)        2.03     0.11\n",
      "  5   0.428455(96)    0.428519(37)        1.65     0.16\n",
      "  6   0.42842(11)     0.428509(35)        1.46     0.20\n",
      "  7   0.42865(12)     0.428520(34)        1.43     0.20\n",
      "  8   0.42874(12)     0.428535(32)        1.64     0.12\n",
      "  9   0.42858(13)     0.428538(31)        1.45     0.17\n",
      " 10   0.42839(14)     0.428531(31)        1.41     0.18\n",
      "\n",
      "[0.428531(31)] 0.17619223364006623\n"
     ]
    }
   ],
   "source": [
    "def f(x):\n",
    "   return np.cbrt(x**4)\n",
    "\n",
    "integ = vegas.Integrator([[0,1]])\n",
    "\n",
    "result = integ(f, nitn=10, neval=1000)\n",
    "print(result.summary())\n",
    "print(result, result.Q)"
   ]
  },
  {
   "cell_type": "markdown",
   "id": "748feb08",
   "metadata": {},
   "source": [
    "## 3D Sampling"
   ]
  },
  {
   "cell_type": "markdown",
   "id": "69cab28d",
   "metadata": {},
   "source": [
    "Converging to \n",
    "\n",
    "$$\\int_0^1 \\int_0^1 \\int_0^1 \\sqrt[3]{x} \\sqrt[3]{y} \\sqrt[3]{z} = 0.421875$$"
   ]
  },
  {
   "cell_type": "code",
   "execution_count": 14,
   "id": "16da14c1",
   "metadata": {},
   "outputs": [
    {
     "name": "stdout",
     "output_type": "stream",
     "text": [
      "itn   integral        wgt average     chi2/dof        Q\n",
      "-------------------------------------------------------\n",
      "  1   0.42110(34)     0.42110(34)         0.00     1.00\n",
      "  2   0.42248(30)     0.42189(23)         9.15     0.00\n",
      "  3   0.42154(29)     0.42175(18)         5.02     0.01\n",
      "  4   0.42180(27)     0.42177(15)         3.36     0.02\n",
      "  5   0.42212(25)     0.42186(13)         2.88     0.02\n",
      "  6   0.42140(24)     0.42176(11)         2.86     0.01\n",
      "  7   0.42199(22)     0.42181(10)         2.53     0.02\n",
      "  8   0.42167(19)     0.421778(89)        2.23     0.03\n",
      "  9   0.42171(18)     0.421765(80)        1.96     0.05\n",
      " 10   0.42165(16)     0.421742(72)        1.79     0.06\n",
      "\n",
      "0.421742(72) 0.06458983592910252\n"
     ]
    }
   ],
   "source": [
    "def f(x):\n",
    "   return np.cbrt(x[0])*np.cbrt(x[1])*np.cbrt(x[2])\n",
    "\n",
    "integ = vegas.Integrator([[0,1],[0,1],[0,1]])\n",
    "\n",
    "result = integ(f, nitn=10, neval=10000)\n",
    "print(result.summary())\n",
    "print(result, result.Q)"
   ]
  }
 ],
 "metadata": {
  "kernelspec": {
   "display_name": "Python 3 (ipykernel)",
   "language": "python",
   "name": "python3"
  },
  "language_info": {
   "codemirror_mode": {
    "name": "ipython",
    "version": 3
   },
   "file_extension": ".py",
   "mimetype": "text/x-python",
   "name": "python",
   "nbconvert_exporter": "python",
   "pygments_lexer": "ipython3",
   "version": "3.8.12"
  }
 },
 "nbformat": 4,
 "nbformat_minor": 5
}
