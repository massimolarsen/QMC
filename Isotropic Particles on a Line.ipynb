{
 "cells": [
  {
   "cell_type": "code",
   "execution_count": 1,
   "id": "3a100326",
   "metadata": {},
   "outputs": [],
   "source": [
    "import numpy as np\n",
    "import scipy as sp\n",
    "from scipy.stats import qmc\n",
    "import numpy.random as random\n",
    "import vegas"
   ]
  },
  {
   "cell_type": "code",
   "execution_count": 2,
   "id": "6b983e9f",
   "metadata": {},
   "outputs": [],
   "source": [
    "class particle:\n",
    "     def __init__(self, alive, mu, x, weight):\n",
    "        self.alive = alive\n",
    "        self.mu = mu\n",
    "        self.x = x\n",
    "        self.weight = weight"
   ]
  },
  {
   "cell_type": "code",
   "execution_count": 3,
   "id": "c1c34d31",
   "metadata": {},
   "outputs": [],
   "source": [
    "def mc_iso_vegas(sigmaS, sigmaA, q, L, x, mu, bias):\n",
    "    sigmaT = sigmaS + sigmaA\n",
    "    tally = np.zeros(2)\n",
    "        \n",
    "    #create particle\n",
    "    p = particle(True, mu, x, q/W)\n",
    "\n",
    "    while p.alive:\n",
    "        #calculate distance to collision\n",
    "        distance_to_collision = abs(-np.log(np.random.random())/sigmaT)\n",
    "\n",
    "        #calculate distance to boundary\n",
    "        if p.mu < 0:\n",
    "            distance_to_boundary = abs(p.x/p.mu)\n",
    "        elif p.mu >= 0:\n",
    "            distance_to_boundary = (L-p.x)/p.mu\n",
    "\n",
    "        #tally if distance to collision is greater than distance to boundary\n",
    "        if distance_to_collision > distance_to_boundary:\n",
    "            if p.mu < 0:\n",
    "                tally[0] += p.weight\n",
    "                p.alive = False\n",
    "            elif p.mu >= 0:\n",
    "                tally[1] += p.weight\n",
    "                p.alive = False\n",
    "        else:\n",
    "            p.x += p.mu*distance_to_collision\n",
    "\n",
    "            if np.random.random() < sigmaA/sigmaT: #absorbed\n",
    "                p.alive = False\n",
    "            else: #isotropic scatter\n",
    "                p.mu = 2 * np.random.random() - 1\n",
    "\n",
    "    #return weighted sum and tally\n",
    "    left_bias = bias[0]\n",
    "    right_bias = bias[1]\n",
    "    return [left_bias*tally[0]+right_bias*tally[1], left_bias*tally[0], right_bias*tally[1]]"
   ]
  },
  {
   "cell_type": "code",
   "execution_count": 4,
   "id": "f5d03627",
   "metadata": {},
   "outputs": [],
   "source": [
    "def mc_iso(sigmaS, sigmaA, q, W, L, N):\n",
    "    sigmaT = sigmaS + sigmaA\n",
    "    tally = np.zeros(2)   \n",
    "        \n",
    "    for i in range(N):\n",
    "        #create particle\n",
    "        x = W * np.random.random()\n",
    "        mu = 2 * np.random.random() - 1 #mu between -1 and 1\n",
    "        p = particle(True, mu, x, q)\n",
    "\n",
    "        while p.alive:\n",
    "            #calculate distance to collision\n",
    "            distance_to_collision = abs(-np.log(np.random.random())/sigmaT)\n",
    "            \n",
    "            #calculate distance to boundary\n",
    "            if p.mu < 0:\n",
    "                distance_to_boundary = abs(p.x/p.mu)\n",
    "            elif p.mu >= 0:\n",
    "                distance_to_boundary = (L-p.x)/p.mu\n",
    "        \n",
    "            #tally if distance to collision is greater than distance to boundary\n",
    "            if distance_to_collision > distance_to_boundary:\n",
    "                if p.mu < 0:\n",
    "                    tally[0] += p.weight\n",
    "                    p.alive = False\n",
    "                elif p.mu >= 0:\n",
    "                    tally[1] += p.weight\n",
    "                    p.alive = False\n",
    "            else:\n",
    "                p.x += p.mu*distance_to_collision\n",
    "                \n",
    "                if np.random.random() < sigmaA/sigmaT: #absorbed\n",
    "                    p.alive = False\n",
    "                else: #isotropic scatter\n",
    "                    p.mu = 2 * np.random.random() - 1\n",
    "\n",
    "    #return weighted sum and tally\n",
    "    return [sum(tally)/N, tally[0]/N, tally[1]/N]"
   ]
  },
  {
   "cell_type": "code",
   "execution_count": 35,
   "id": "35462b5f",
   "metadata": {},
   "outputs": [
    {
     "name": "stdout",
     "output_type": "stream",
     "text": [
      "Total leakage tally =  0.185604\n",
      "Left leakage tally =  0.092487\n",
      "Right leakage tally =  0.093117\n",
      "ratio of leakage Left =  0.4983\n",
      "ratio of leakage Right =  0.5017\n"
     ]
    }
   ],
   "source": [
    "sigmaS = 5\n",
    "sigmaA = 1\n",
    "q = 3\n",
    "L = 5\n",
    "W = 5\n",
    "\n",
    "tally = mc_iso(sigmaS, sigmaA, q, W, L, 100000)\n",
    "\n",
    "print('Total leakage tally = ', tally[0])\n",
    "print('Left leakage tally = ', tally[1])\n",
    "print('Right leakage tally = ', tally[2])\n",
    "\n",
    "print('ratio of leakage Left = ', round(tally[1]/tally[0], 4))\n",
    "print('ratio of leakage Right = ', round(tally[2]/tally[0], 4))"
   ]
  },
  {
   "cell_type": "code",
   "execution_count": 37,
   "id": "ddd67f3f",
   "metadata": {},
   "outputs": [
    {
     "name": "stdout",
     "output_type": "stream",
     "text": [
      "itn   integral        wgt average     chi2/dof        Q\n",
      "-------------------------------------------------------\n",
      "  1   0.0677(11)      0.0677(11)          0.00     1.00\n",
      "  2   0.0648(11)      0.06623(77)         1.15     0.33\n",
      "  3   0.06483(89)     0.06563(58)         0.81     0.56\n",
      "  4   0.06489(78)     0.06537(47)         0.60     0.80\n",
      "  5   0.06435(75)     0.06508(40)         0.56     0.87\n",
      "  6   0.06587(77)     0.06525(35)         0.50     0.94\n",
      "  7   0.06583(74)     0.06536(32)         0.45     0.98\n",
      "  8   0.06482(63)     0.06525(28)         0.41     0.99\n",
      "  9   0.06403(64)     0.06505(26)         0.48     0.98\n",
      " 10   0.06475(64)     0.06501(24)         0.44     0.99\n",
      "\n",
      "Total leakage =  0.06501(24)\n",
      "Left leakage =  0.06501(24)\n",
      "Right leakage =  0(0)\n",
      "ratio of leakage Left =  1.0000000000000008882(15)\n",
      "ratio of leakage Right =  0(0)\n"
     ]
    },
    {
     "data": {
      "image/png": "[encoded data removed]",
      "text/plain": [
       "<Figure size 432x288 with 1 Axes>"
      ]
     },
     "metadata": {
      "needs_background": "light"
     },
     "output_type": "display_data"
    }
   ],
   "source": [
    "sigmaS = 5\n",
    "sigmaA = 3\n",
    "q = 3\n",
    "L = 5\n",
    "W = 3\n",
    "bias = [.5,.5]\n",
    "\n",
    "def f(x):\n",
    "    return mc_iso_vegas(sigmaS, sigmaA, q, L, x[0], x[1], bias)\n",
    "    \n",
    "integ = vegas.Integrator([[0, W], [-1,1]])\n",
    "\n",
    "result = integ(f, nitn=10, neval=10000)\n",
    "print(result.summary())\n",
    "print('Total leakage = ', result[0])\n",
    "print('Left leakage = ', result[1])\n",
    "print('Right leakage = ', result[2])\n",
    "\n",
    "print('ratio of leakage Left = ', result[1]/result[0])\n",
    "print('ratio of leakage Right = ', result[2]/result[0])\n",
    "integ.map.show_grid(30)"
   ]
  }
 ],
 "metadata": {
  "kernelspec": {
   "display_name": "Python 3",
   "language": "python",
   "name": "python3"
  },
  "language_info": {
   "codemirror_mode": {
    "name": "ipython",
    "version": 3
   },
   "file_extension": ".py",
   "mimetype": "text/x-python",
   "name": "python",
   "nbconvert_exporter": "python",
   "pygments_lexer": "ipython3",
   "version": "3.8.8"
  }
 },
 "nbformat": 4,
 "nbformat_minor": 5
}
