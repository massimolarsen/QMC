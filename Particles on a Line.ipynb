{
 "cells": [
  {
   "cell_type": "code",
   "execution_count": 1,
   "id": "62440111",
   "metadata": {},
   "outputs": [],
   "source": [
    "import numpy as np\n",
    "import scipy as sp\n",
    "import numpy.random as random\n",
    "import vegas"
   ]
  },
  {
   "cell_type": "markdown",
   "id": "2f12de08",
   "metadata": {},
   "source": [
    "Particle class"
   ]
  },
  {
   "cell_type": "code",
   "execution_count": 2,
   "id": "d198d99c",
   "metadata": {},
   "outputs": [],
   "source": [
    "class particle:\n",
    "     def __init__(self, alive, mu, x, weight):\n",
    "        self.alive = alive\n",
    "        self.mu = mu\n",
    "        self.x = x\n",
    "        self.weight = weight"
   ]
  },
  {
   "cell_type": "markdown",
   "id": "4c17cb5b",
   "metadata": {},
   "source": [
    "### Monte Carlo Functions"
   ]
  },
  {
   "cell_type": "markdown",
   "id": "01bb6a4e",
   "metadata": {},
   "source": [
    "##### VEGAS inputs\n",
    "\n",
    "Cross sections: $\\sigma_s$, $\\sigma_a$ \n",
    "\n",
    "Source strength: $q_0$\n",
    "\n",
    "Width of slab: $L$\n",
    "\n",
    "Source particle location: $x$\n",
    "\n",
    "Source particle angle: $\\mu$\n",
    "\n",
    "##### VEGAS outputs\n",
    "\n",
    "Total tally, Tally left, Tally right"
   ]
  },
  {
   "cell_type": "code",
   "execution_count": 32,
   "id": "f39d12a9",
   "metadata": {},
   "outputs": [],
   "source": [
    "def mc_vegas(sigmaS, sigmaA, q, L, x, mu):\n",
    "    sigmaT = sigmaS + sigmaA\n",
    "    tally = np.zeros(2)\n",
    "        \n",
    "    #create particle\n",
    "    if mu < 0:\n",
    "        mu = -1\n",
    "    else:\n",
    "        mu = 1\n",
    "    p = particle(True, mu, x, q)\n",
    "\n",
    "    while p.alive:\n",
    "        #calculate distance to collision\n",
    "        distance_to_collision = abs(-np.log(random.random())/sigmaT)\n",
    "\n",
    "        #calculate distance to boundary\n",
    "        if p.mu == -1:\n",
    "            distance_to_boundary = p.x\n",
    "        elif p.mu == 1:\n",
    "            distance_to_boundary = L-p.x\n",
    "\n",
    "        #tally if distance to collision is greater than distance to boundary\n",
    "        if distance_to_collision > distance_to_boundary:\n",
    "            if p.mu == -1:\n",
    "                tally[0] += p.weight\n",
    "                p.alive = False\n",
    "            elif p.mu == 1:\n",
    "                tally[1] += p.weight\n",
    "                p.alive = False\n",
    "        else:\n",
    "            p.x += p.mu*distance_to_collision\n",
    "            if random.random() < sigmaA/sigmaT: #absorbed\n",
    "                p.alive = False\n",
    "            elif random.random() < 0.5: #backscatter\n",
    "                    p.mu *= -1\n",
    "\n",
    "    #return weighted sum and tally\n",
    "    return [sum(tally)*p.weight, tally[0]*p.weight, tally[1]*p.weight]"
   ]
  },
  {
   "cell_type": "markdown",
   "id": "8bab9415",
   "metadata": {},
   "source": [
    "##### Normal inputs\n",
    "\n",
    "Cross sections: $\\sigma_s$, $\\sigma_a$ \n",
    "\n",
    "Source strength: $q_0$\n",
    "\n",
    "Width of slab: $L$\n",
    "\n",
    "Width of source: $W$\n",
    "\n",
    "Number of history: $N$\n",
    "\n",
    "##### Normal outputs\n",
    "\n",
    "Total tally, Tally left, Tally right"
   ]
  },
  {
   "cell_type": "code",
   "execution_count": 14,
   "id": "32bb0bf0",
   "metadata": {},
   "outputs": [],
   "source": [
    "def mc_normal(sigmaS, sigmaA, q, W, L, N):\n",
    "    sigmaT = sigmaS + sigmaA\n",
    "    tally = np.zeros(2)\n",
    "     \n",
    "        \n",
    "    for i in range(N):\n",
    "        #create particle\n",
    "        x = W * np.random.random()\n",
    "        mu = np.random.random()\n",
    "        if mu < 0.5:\n",
    "            mu = -1\n",
    "        else:\n",
    "            mu = 1\n",
    "        p = particle(True, mu, x, q)\n",
    "\n",
    "        while p.alive:\n",
    "            #calculate distance to collision\n",
    "            distance_to_collision = abs(-np.log(random.random())/sigmaT)\n",
    "\n",
    "            #calculate distance to boundary\n",
    "            if p.mu == -1:\n",
    "                distance_to_boundary = p.x\n",
    "            elif p.mu == 1:\n",
    "                distance_to_boundary = L-p.x\n",
    "\n",
    "            #tally if distance to collision is greater than distance to boundary\n",
    "            if distance_to_collision > distance_to_boundary:\n",
    "                if p.mu == -1:\n",
    "                    tally[0] += p.weight\n",
    "                    p.alive = False\n",
    "                elif p.mu == 1:\n",
    "                    tally[1] += p.weight\n",
    "                    p.alive = False\n",
    "            else:\n",
    "                p.x += p.mu*distance_to_collision\n",
    "                if random.random() < sigmaA/sigmaT: #absorbed\n",
    "                    p.alive = False\n",
    "                elif random.random() < 0.5: #backscatter\n",
    "                        p.mu *= -1\n",
    "\n",
    "    #return weighted sum and tally\n",
    "    return [sum(tally)*p.weight, tally[0]*p.weight, tally[1]*p.weight]"
   ]
  },
  {
   "cell_type": "markdown",
   "id": "5f2c8092",
   "metadata": {},
   "source": [
    "### Normal Monte Carlo"
   ]
  },
  {
   "cell_type": "code",
   "execution_count": 50,
   "id": "335f9b50",
   "metadata": {},
   "outputs": [
    {
     "name": "stdout",
     "output_type": "stream",
     "text": [
      "Total tally =  705.0\n",
      "Left tally =  544.0\n",
      "Right tally =  161.0\n",
      "ratio of leakage Left =  0.7716\n",
      "ratio of leakage Right =  0.2284\n"
     ]
    }
   ],
   "source": [
    "sigmaS = 1\n",
    "sigmaA = .1\n",
    "q = 1\n",
    "L = 5\n",
    "W = 2\n",
    "\n",
    "tally = mc_normal(sigmaS, sigmaA, q, W, L, 1000)\n",
    "\n",
    "print('Total leakage tally = ', tally[0])\n",
    "print('Left leakage tally = ', tally[1])\n",
    "print('Right leakage tally = ', tally[2])\n",
    "\n",
    "print('ratio of leakage Left = ', round(tally[1]/tally[0], 4))\n",
    "print('ratio of leakage Right = ', round(tally[2]/tally[0], 4))"
   ]
  },
  {
   "cell_type": "markdown",
   "id": "5a21cb02",
   "metadata": {},
   "source": [
    "### VEGAS Monte Carlo"
   ]
  },
  {
   "cell_type": "markdown",
   "id": "f30767f4",
   "metadata": {},
   "source": [
    "\n",
    "The VEGAS algorithm is based on importance sampling following the equation\n",
    "\n",
    "$$\n",
    "I = \\int_D \\frac{f(x)}{f^*(x)} f^*(x) dx\n",
    "$$\n",
    "\n",
    "VEGAS's main goal is to minimize the statistical error of the Monte Carlo estimate of $I$. However without knowing the analytical solution, the exact $f^*$ can not be calculated in one step or even at all. In order to accurately estimate $f^*$ VEGAS employs an iterative technique where it adapts $f^*$ every iteration in an attempt to minimize the error.\n",
    "\n",
    "Every iteration VEGAS approximates this new $f^*$ with a set of histograms to create a sampling distribution for the following pass. VEGAS also ensures that each newly created bin has an equiprobable chance of being sampled. Such a tactic, accurately called equiprobable bins, reduces the memory needs of the algorithm by limiting the histogramming to a set of $B$ bins. Once the per-iteration error stops decreasing VEGAS has acheived an accurate mapping of the $f^*$ function and can then produce a Monte Carlo estimate of the initial integrand $f$ using the new importance sampling parameters. \n",
    "\n",
    "Since VEGAS begins each set of iterations with no information on the integrand it is common for the initial set of estimates to be wildy incorrect. In that case it is possible to first \"train\" the algorithm on a throwaway set of iterations, discard the results, and then run the real evalution. This method can even be adapted to more complex cases where the algorithm can be trained on a simpler radiography example and then applied to the more complex problem. This technique will reduce run time as well as produce more accurate estiamtes."
   ]
  },
  {
   "cell_type": "code",
   "execution_count": 57,
   "id": "3a583feb",
   "metadata": {},
   "outputs": [
    {
     "name": "stdout",
     "output_type": "stream",
     "text": [
      "itn   integral        wgt average     chi2/dof        Q\n",
      "-------------------------------------------------------\n",
      "  1   2.814(57)       2.814(57)           0.00     1.00\n",
      "  2   2.820(62)       2.817(42)           0.04     0.99\n",
      "  3   2.846(55)       2.828(33)           0.06     1.00\n",
      "  4   2.716(59)       2.800(29)           0.44     0.92\n",
      "  5   2.843(59)       2.809(26)           0.37     0.97\n",
      "  6   2.706(63)       2.794(24)           0.45     0.97\n",
      "  7   2.787(63)       2.793(22)           0.38     0.99\n",
      "  8   2.874(62)       2.803(21)           0.48     0.98\n",
      "  9   2.822(66)       2.805(20)           0.43     0.99\n",
      " 10   2.836(60)       2.808(19)           0.41     1.00\n",
      "\n",
      "Total leakage =  2.808(19)\n",
      "Left leakage =  2.202(20)\n",
      "Right leakage =  0.605(14)\n",
      "ratio of leakage Left =  0.7843(48)\n",
      "ratio of leakage Right =  0.2157(48)\n"
     ]
    }
   ],
   "source": [
    "sigmaS = 1\n",
    "sigmaA = .1\n",
    "q = 1\n",
    "L = 5\n",
    "W = 2\n",
    "\n",
    "def f(x):\n",
    "    return mc_vegas(sigmaS, sigmaA, q, L, x[0], x[1])\n",
    "    \n",
    "integ = vegas.Integrator([[0, W], [-1,1]])\n",
    "\n",
    "result = integ(f, nitn=10, neval=1000)\n",
    "print(result.summary())\n",
    "print('Total leakage = ', result[0])\n",
    "print('Left leakage = ', result[1])\n",
    "print('Right leakage = ', result[2])\n",
    "\n",
    "print('ratio of leakage Left = ', result[1]/result[0])\n",
    "print('ratio of leakage Right = ', result[2]/result[0])"
   ]
  },
  {
   "cell_type": "markdown",
   "id": "2c120028",
   "metadata": {},
   "source": [
    "We can see that both the normal Monte Carlo and VEGAS Monte Carlo provide the same result for this test problem. They both approximate about 80% of leakage occurs out the left while 20% of particles leak out the right. This of course does not include the particles lost to absorbtion"
   ]
  },
  {
   "cell_type": "markdown",
   "id": "e5678a82",
   "metadata": {},
   "source": [
    "#### Vegas Mapping"
   ]
  },
  {
   "cell_type": "markdown",
   "id": "443cd9b7",
   "metadata": {},
   "source": [
    "All bins are equiprobable. The evenly spaced bins show that the Monte Carlo function is sampling from an even distribution across space (x-axis) and angle (y-axis)."
   ]
  },
  {
   "cell_type": "code",
   "execution_count": 56,
   "id": "e5a5dac3",
   "metadata": {
    "scrolled": true
   },
   "outputs": [
    {
     "data": {
      "image/png": "[encoded data removed]",
      "text/plain": [
       "<Figure size 432x288 with 1 Axes>"
      ]
     },
     "metadata": {
      "needs_background": "light"
     },
     "output_type": "display_data"
    }
   ],
   "source": [
    "integ.map.show_grid(30)"
   ]
  }
 ],
 "metadata": {
  "kernelspec": {
   "display_name": "Python 3",
   "language": "python",
   "name": "python3"
  },
  "language_info": {
   "codemirror_mode": {
    "name": "ipython",
    "version": 3
   },
   "file_extension": ".py",
   "mimetype": "text/x-python",
   "name": "python",
   "nbconvert_exporter": "python",
   "pygments_lexer": "ipython3",
   "version": "3.8.8"
  }
 },
 "nbformat": 4,
 "nbformat_minor": 5
}
