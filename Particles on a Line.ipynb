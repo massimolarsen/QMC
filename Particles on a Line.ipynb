{
 "cells": [
  {
   "cell_type": "code",
   "execution_count": 18,
   "id": "62440111",
   "metadata": {},
   "outputs": [],
   "source": [
    "import numpy as np\n",
    "import scipy as sp\n",
    "import numpy.random as random\n",
    "import vegas"
   ]
  },
  {
   "cell_type": "markdown",
   "id": "1102bad8",
   "metadata": {},
   "source": [
    "Particle class"
   ]
  },
  {
   "cell_type": "code",
   "execution_count": 43,
   "id": "d198d99c",
   "metadata": {},
   "outputs": [],
   "source": [
    "class particle:\n",
    "     def __init__(self, alive, mu, x, weight):\n",
    "        self.alive = alive\n",
    "        self.mu = mu\n",
    "        self.x = x\n",
    "        self.weight = weight"
   ]
  },
  {
   "cell_type": "markdown",
   "id": "3967a554",
   "metadata": {},
   "source": [
    "Monte Carlo function with inputs\n",
    "\n",
    "$\\sigma_s$, $\\sigma_a$, $q_0$, $L$, $W$, and # of trials"
   ]
  },
  {
   "cell_type": "code",
   "execution_count": 60,
   "id": "a2b16f5f",
   "metadata": {},
   "outputs": [],
   "source": [
    "def mc(sigmaS, sigmaA, q, L, W, trials):\n",
    "    sigmaT = sigmaS + sigmaA\n",
    "    tally = np.zeros(2)\n",
    "    \n",
    "    for i in range(trials):\n",
    "        \n",
    "        #create particle\n",
    "        x = W*random.random()\n",
    "        if random.random() < .5:\n",
    "            mu = -1\n",
    "        else:\n",
    "            mu = 1\n",
    "        p = particle(True, mu, x, 1)\n",
    "        \n",
    "        while p.alive:\n",
    "            #calculate distance to collision\n",
    "            distance_to_collision = abs(-np.log(random.random())/sigmaT)\n",
    "            \n",
    "            #calculate distance to boundary\n",
    "            if p.mu == -1:\n",
    "                distance_to_boundary = p.x\n",
    "            elif p.mu == 1:\n",
    "                distance_to_boundary = L-p.x\n",
    "            \n",
    "            #tally if distance to collision is greater than distance to boundary\n",
    "            if distance_to_collision > distance_to_boundary:\n",
    "                if p.mu == -1:\n",
    "                    tally[0] += p.weight\n",
    "                    p.alive = False\n",
    "                elif p.mu == 1:\n",
    "                    tally[1] += p.weight\n",
    "                    p.alive = False\n",
    "            else:\n",
    "                p.x += p.mu*distance_to_collision\n",
    "                if random.random() < sigmaA/sigmaT: #absorbed\n",
    "                    p.alive = False\n",
    "                elif random.random() < 0.5: #backscatter\n",
    "                        p.mu *= -1\n",
    "                        \n",
    "    # return flux                \n",
    "    return tally * q"
   ]
  },
  {
   "cell_type": "code",
   "execution_count": 116,
   "id": "74cbd586",
   "metadata": {},
   "outputs": [
    {
     "data": {
      "text/plain": [
       "array([176.,   4.])"
      ]
     },
     "execution_count": 116,
     "metadata": {},
     "output_type": "execute_result"
    }
   ],
   "source": [
    "sigmaS = 1\n",
    "sigmaA = 1\n",
    "q = 1\n",
    "L = 5\n",
    "W = 2\n",
    "trials = 1000\n",
    "\n",
    "mc(sigmaS, sigmaA, q, L, W, trials)"
   ]
  }
 ],
 "metadata": {
  "kernelspec": {
   "display_name": "Python 3",
   "language": "python",
   "name": "python3"
  },
  "language_info": {
   "codemirror_mode": {
    "name": "ipython",
    "version": 3
   },
   "file_extension": ".py",
   "mimetype": "text/x-python",
   "name": "python",
   "nbconvert_exporter": "python",
   "pygments_lexer": "ipython3",
   "version": "3.8.8"
  }
 },
 "nbformat": 4,
 "nbformat_minor": 5
}
