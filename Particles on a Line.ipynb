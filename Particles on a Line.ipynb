{
 "cells": [
  {
   "cell_type": "code",
   "execution_count": 1,
   "id": "62440111",
   "metadata": {},
   "outputs": [],
   "source": [
    "import numpy as np\n",
    "import scipy as sp\n",
    "import numpy.random as random\n",
    "import vegas"
   ]
  },
  {
   "cell_type": "markdown",
   "id": "2f12de08",
   "metadata": {},
   "source": [
    "Particle class"
   ]
  },
  {
   "cell_type": "code",
   "execution_count": 2,
   "id": "d198d99c",
   "metadata": {},
   "outputs": [],
   "source": [
    "class particle:\n",
    "     def __init__(self, alive, mu, x, weight):\n",
    "        self.alive = alive\n",
    "        self.mu = mu\n",
    "        self.x = x\n",
    "        self.weight = weight"
   ]
  },
  {
   "cell_type": "markdown",
   "id": "01bb6a4e",
   "metadata": {},
   "source": [
    "Monte Carlo function with inputs\n",
    "\n",
    "$\\sigma_s$, $\\sigma_a$, $q_0$, $L$, $W$"
   ]
  },
  {
   "cell_type": "code",
   "execution_count": 32,
   "id": "f39d12a9",
   "metadata": {},
   "outputs": [],
   "source": [
    "def mc_vegas(sigmaS, sigmaA, q, L, x, mu):\n",
    "    sigmaT = sigmaS + sigmaA\n",
    "    tally = np.zeros(2)\n",
    "        \n",
    "    #create particle\n",
    "    if mu < 0:\n",
    "        mu = -1\n",
    "    else:\n",
    "        mu = 1\n",
    "    p = particle(True, mu, x, q)\n",
    "\n",
    "    while p.alive:\n",
    "        #calculate distance to collision\n",
    "        distance_to_collision = abs(-np.log(random.random())/sigmaT)\n",
    "\n",
    "        #calculate distance to boundary\n",
    "        if p.mu == -1:\n",
    "            distance_to_boundary = p.x\n",
    "        elif p.mu == 1:\n",
    "            distance_to_boundary = L-p.x\n",
    "\n",
    "        #tally if distance to collision is greater than distance to boundary\n",
    "        if distance_to_collision > distance_to_boundary:\n",
    "            if p.mu == -1:\n",
    "                tally[0] += p.weight\n",
    "                p.alive = False\n",
    "            elif p.mu == 1:\n",
    "                tally[1] += p.weight\n",
    "                p.alive = False\n",
    "        else:\n",
    "            p.x += p.mu*distance_to_collision\n",
    "            if random.random() < sigmaA/sigmaT: #absorbed\n",
    "                p.alive = False\n",
    "            elif random.random() < 0.5: #backscatter\n",
    "                    p.mu *= -1\n",
    "\n",
    "    #return weighted sum and tally\n",
    "    return [sum(tally)*p.weight, tally[0]*p.weight, tally[1]*p.weight]"
   ]
  },
  {
   "cell_type": "code",
   "execution_count": 14,
   "id": "32bb0bf0",
   "metadata": {},
   "outputs": [],
   "source": [
    "def mc_normal(sigmaS, sigmaA, q, W, L, N):\n",
    "    sigmaT = sigmaS + sigmaA\n",
    "    tally = np.zeros(2)\n",
    "     \n",
    "        \n",
    "    for i in range(N):\n",
    "        #create particle\n",
    "        x = W * np.random.random()\n",
    "        mu = np.random.random()\n",
    "        if mu < 0.5:\n",
    "            mu = -1\n",
    "        else:\n",
    "            mu = 1\n",
    "        p = particle(True, mu, x, q)\n",
    "\n",
    "        while p.alive:\n",
    "            #calculate distance to collision\n",
    "            distance_to_collision = abs(-np.log(random.random())/sigmaT)\n",
    "\n",
    "            #calculate distance to boundary\n",
    "            if p.mu == -1:\n",
    "                distance_to_boundary = p.x\n",
    "            elif p.mu == 1:\n",
    "                distance_to_boundary = L-p.x\n",
    "\n",
    "            #tally if distance to collision is greater than distance to boundary\n",
    "            if distance_to_collision > distance_to_boundary:\n",
    "                if p.mu == -1:\n",
    "                    tally[0] += p.weight\n",
    "                    p.alive = False\n",
    "                elif p.mu == 1:\n",
    "                    tally[1] += p.weight\n",
    "                    p.alive = False\n",
    "            else:\n",
    "                p.x += p.mu*distance_to_collision\n",
    "                if random.random() < sigmaA/sigmaT: #absorbed\n",
    "                    p.alive = False\n",
    "                elif random.random() < 0.5: #backscatter\n",
    "                        p.mu *= -1\n",
    "\n",
    "    #return weighted sum and tally\n",
    "    return [sum(tally)*p.weight, tally[0]*p.weight, tally[1]*p.weight]"
   ]
  },
  {
   "cell_type": "markdown",
   "id": "5f2c8092",
   "metadata": {},
   "source": [
    "### Normal Monte Carlo"
   ]
  },
  {
   "cell_type": "code",
   "execution_count": 34,
   "id": "335f9b50",
   "metadata": {},
   "outputs": [
    {
     "name": "stdout",
     "output_type": "stream",
     "text": [
      "Total leakage =  703.0\n",
      "Left leakage =  553.0\n",
      "Right leakage =  150.0\n"
     ]
    }
   ],
   "source": [
    "sigmaS = 1\n",
    "sigmaA = .1\n",
    "q = 1\n",
    "L = 5\n",
    "W = 2\n",
    "\n",
    "tally = mc_normal(sigmaS, sigmaA, q, W, L, 1000)\n",
    "\n",
    "print('Total leakage = ', tally[0])\n",
    "print('Left leakage = ', tally[1])\n",
    "print('Right leakage = ', tally[2])"
   ]
  },
  {
   "cell_type": "markdown",
   "id": "5a21cb02",
   "metadata": {},
   "source": [
    "### Vegas"
   ]
  },
  {
   "cell_type": "code",
   "execution_count": 35,
   "id": "3a583feb",
   "metadata": {},
   "outputs": [
    {
     "name": "stdout",
     "output_type": "stream",
     "text": [
      "itn   integral        wgt average     chi2/dof        Q\n",
      "-------------------------------------------------------\n",
      "  1   2.785(57)       2.785(57)           0.00     1.00\n",
      "  2   2.869(56)       2.829(40)           0.59     0.62\n",
      "  3   2.795(67)       2.816(34)           0.72     0.63\n",
      "  4   2.757(62)       2.800(30)           0.78     0.63\n",
      "  5   2.839(61)       2.808(27)           0.61     0.83\n",
      "  6   2.825(58)       2.811(24)           0.50     0.94\n",
      "  7   2.756(60)       2.803(23)           0.48     0.97\n",
      "  8   2.891(57)       2.815(21)           0.58     0.94\n",
      "  9   2.680(64)       2.800(20)           0.75     0.80\n",
      " 10   2.757(63)       2.797(19)           0.70     0.88\n",
      "\n",
      "Total leakage =  2.797(19)\n",
      "Left leakage =  2.202(20)\n",
      "Right leakage =  0.595(14)\n"
     ]
    }
   ],
   "source": [
    "sigmaS = 1\n",
    "sigmaA = .1\n",
    "q = 1\n",
    "L = 5\n",
    "W = 2\n",
    "\n",
    "def f(x):\n",
    "    return mc_vegas(sigmaS, sigmaA, q, L, x[0], x[1])\n",
    "    \n",
    "integ = vegas.Integrator([[0, W], [-1,1]])\n",
    "\n",
    "result = integ(f, nitn=10, neval=1000)\n",
    "print(result.summary())\n",
    "print('Total leakage = ', result[0])\n",
    "print('Left leakage = ', result[1])\n",
    "print('Right leakage = ', result[2])"
   ]
  },
  {
   "cell_type": "markdown",
   "id": "e5678a82",
   "metadata": {},
   "source": [
    "#### Vegas Mapping"
   ]
  },
  {
   "cell_type": "code",
   "execution_count": 36,
   "id": "e5a5dac3",
   "metadata": {},
   "outputs": [
    {
     "data": {
      "image/png": "[encoded data removed]",
      "text/plain": [
       "<Figure size 432x288 with 1 Axes>"
      ]
     },
     "metadata": {
      "needs_background": "light"
     },
     "output_type": "display_data"
    }
   ],
   "source": [
    "integ.map.show_grid(30)"
   ]
  }
 ],
 "metadata": {
  "kernelspec": {
   "display_name": "Python 3",
   "language": "python",
   "name": "python3"
  },
  "language_info": {
   "codemirror_mode": {
    "name": "ipython",
    "version": 3
   },
   "file_extension": ".py",
   "mimetype": "text/x-python",
   "name": "python",
   "nbconvert_exporter": "python",
   "pygments_lexer": "ipython3",
   "version": "3.8.8"
  }
 },
 "nbformat": 4,
 "nbformat_minor": 5
}
