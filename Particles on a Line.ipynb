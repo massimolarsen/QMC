{
 "cells": [
  {
   "cell_type": "code",
   "execution_count": 1,
   "id": "62440111",
   "metadata": {},
   "outputs": [],
   "source": [
    "import numpy as np\n",
    "import scipy as sp\n",
    "import numpy.random as random\n",
    "import vegas"
   ]
  },
  {
   "cell_type": "markdown",
   "id": "2f12de08",
   "metadata": {},
   "source": [
    "Particle class"
   ]
  },
  {
   "cell_type": "code",
   "execution_count": 2,
   "id": "d198d99c",
   "metadata": {},
   "outputs": [],
   "source": [
    "class particle:\n",
    "     def __init__(self, alive, mu, x, weight):\n",
    "        self.alive = alive\n",
    "        self.mu = mu\n",
    "        self.x = x\n",
    "        self.weight = weight"
   ]
  },
  {
   "cell_type": "markdown",
   "id": "01bb6a4e",
   "metadata": {},
   "source": [
    "Monte Carlo function with inputs\n",
    "\n",
    "$\\sigma_s$, $\\sigma_a$, $q_0$, $L$, $W$"
   ]
  },
  {
   "cell_type": "code",
   "execution_count": 25,
   "id": "f39d12a9",
   "metadata": {},
   "outputs": [],
   "source": [
    "def mc(sigmaS, sigmaA, q, L, x, mu):\n",
    "    sigmaT = sigmaS + sigmaA\n",
    "    tally = np.zeros(2)\n",
    "        \n",
    "    #create particle\n",
    "    if mu < 0:\n",
    "        mu = -1\n",
    "    else:\n",
    "        mu = 1\n",
    "    p = particle(True, mu, x, q)\n",
    "\n",
    "    while p.alive:\n",
    "        #calculate distance to collision\n",
    "        distance_to_collision = abs(-np.log(random.random())/sigmaT)\n",
    "\n",
    "        #calculate distance to boundary\n",
    "        if p.mu == -1:\n",
    "            distance_to_boundary = p.x\n",
    "        elif p.mu == 1:\n",
    "            distance_to_boundary = L-p.x\n",
    "\n",
    "        #tally if distance to collision is greater than distance to boundary\n",
    "        if distance_to_collision > distance_to_boundary:\n",
    "            if p.mu == -1:\n",
    "                tally[0] += p.weight\n",
    "                p.alive = False\n",
    "            elif p.mu == 1:\n",
    "                tally[1] += p.weight\n",
    "                p.alive = False\n",
    "        else:\n",
    "            p.x += p.mu*distance_to_collision\n",
    "            if random.random() < sigmaA/sigmaT: #absorbed\n",
    "                p.alive = False\n",
    "            elif random.random() < 0.5: #backscatter\n",
    "                    p.mu *= -1\n",
    "\n",
    "    #return weighted sum and tally\n",
    "    return [sum(tally)*p.weight, tally[0]*p.weight, tally[1]*p.weight]"
   ]
  },
  {
   "cell_type": "code",
   "execution_count": 13,
   "id": "fc7cf251",
   "metadata": {},
   "outputs": [
    {
     "data": {
      "text/plain": [
       "[1.0, 1.0, 0.0]"
      ]
     },
     "execution_count": 13,
     "metadata": {},
     "output_type": "execute_result"
    }
   ],
   "source": [
    "sigmaS = 1\n",
    "sigmaA = .01\n",
    "\n",
    "q = 1\n",
    "L = 5\n",
    "W = 2\n",
    "\n",
    "mc(sigmaS, sigmaA, q, L, 1, 0)"
   ]
  },
  {
   "cell_type": "markdown",
   "id": "5a21cb02",
   "metadata": {},
   "source": [
    "### Vegas"
   ]
  },
  {
   "cell_type": "code",
   "execution_count": 26,
   "id": "3a583feb",
   "metadata": {},
   "outputs": [
    {
     "name": "stdout",
     "output_type": "stream",
     "text": [
      "itn   integral        wgt average     chi2/dof        Q\n",
      "-------------------------------------------------------\n",
      "  1   11.02(23)       11.02(23)           0.00     1.00\n",
      "  2   11.16(25)       11.09(17)           0.06     0.98\n",
      "  3   11.19(24)       11.12(14)           0.12     0.99\n",
      "  4   11.05(26)       11.10(12)           0.34     0.96\n",
      "  5   11.14(25)       11.10(11)           0.53     0.89\n",
      "  6   10.88(28)       11.06(10)           0.66     0.82\n",
      "  7   10.92(25)       11.037(94)          0.72     0.79\n",
      "  8   10.79(26)       11.009(88)          0.66     0.88\n",
      "  9   10.95(28)       11.003(84)          0.61     0.93\n",
      " 10   11.10(25)       11.014(80)          0.55     0.97\n",
      "\n",
      "Total leakage =  11.014(80)\n",
      "Left leakage =  8.606(81)\n",
      "Right leakage =  2.408(58)\n"
     ]
    }
   ],
   "source": [
    "sigmaS = 1\n",
    "sigmaA = .1\n",
    "q = 2\n",
    "L = 5\n",
    "\n",
    "def f(x):\n",
    "    return mc(sigmaS, sigmaA, q, L, x[0], x[1])\n",
    "    \n",
    "integ = vegas.Integrator([[0, 2], [-1,1]])\n",
    "\n",
    "result = integ(f, nitn=10, neval=1000)\n",
    "print(result.summary())\n",
    "print('Total leakage = ', result[0])\n",
    "print('Left leakage = ', result[1])\n",
    "print('Right leakage = ', result[2])"
   ]
  }
 ],
 "metadata": {
  "kernelspec": {
   "display_name": "Python 3",
   "language": "python",
   "name": "python3"
  },
  "language_info": {
   "codemirror_mode": {
    "name": "ipython",
    "version": 3
   },
   "file_extension": ".py",
   "mimetype": "text/x-python",
   "name": "python",
   "nbconvert_exporter": "python",
   "pygments_lexer": "ipython3",
   "version": "3.8.8"
  }
 },
 "nbformat": 4,
 "nbformat_minor": 5
}
