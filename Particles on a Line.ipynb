{
 "cells": [
  {
   "cell_type": "code",
   "execution_count": 1,
   "id": "62440111",
   "metadata": {},
   "outputs": [],
   "source": [
    "import numpy as np\n",
    "import scipy as sp\n",
    "from scipy.stats import qmc\n",
    "import numpy.random as random\n",
    "import vegas"
   ]
  },
  {
   "cell_type": "markdown",
   "id": "2f12de08",
   "metadata": {},
   "source": [
    "Particle class"
   ]
  },
  {
   "cell_type": "code",
   "execution_count": 2,
   "id": "d198d99c",
   "metadata": {},
   "outputs": [],
   "source": [
    "class particle:\n",
    "     def __init__(self, alive, mu, x, weight):\n",
    "        self.alive = alive\n",
    "        self.mu = mu\n",
    "        self.x = x\n",
    "        self.weight = weight"
   ]
  },
  {
   "cell_type": "markdown",
   "id": "4c17cb5b",
   "metadata": {},
   "source": [
    "### Monte Carlo Functions"
   ]
  },
  {
   "cell_type": "markdown",
   "id": "01bb6a4e",
   "metadata": {},
   "source": [
    "##### VEGAS inputs\n",
    "\n",
    "Cross sections: $\\sigma_s$, $\\sigma_a$ \n",
    "\n",
    "Source strength: $q_0$\n",
    "\n",
    "Width of slab: $L$\n",
    "\n",
    "Source particle location: $x$\n",
    "\n",
    "Source particle angle: $\\mu$\n",
    "\n",
    "Bias: [left, right]\n",
    "\n",
    "##### VEGAS outputs\n",
    "\n",
    "Total tally, Tally left, Tally right"
   ]
  },
  {
   "cell_type": "code",
   "execution_count": 3,
   "id": "f39d12a9",
   "metadata": {},
   "outputs": [],
   "source": [
    "def mc_vegas(sigmaS, sigmaA, q, L, x, mu, bias):\n",
    "    sigmaT = sigmaS + sigmaA\n",
    "    tally = np.zeros(2)\n",
    "        \n",
    "    #create particle\n",
    "    if mu < 0:\n",
    "        mu = -1\n",
    "    else:\n",
    "        mu = 1\n",
    "    p = particle(True, mu, x, q/W)\n",
    "\n",
    "    while p.alive:\n",
    "        #calculate distance to collision\n",
    "        distance_to_collision = abs(-np.log(random.random())/sigmaT)\n",
    "\n",
    "        #calculate distance to boundary\n",
    "        if p.mu == -1:\n",
    "            distance_to_boundary = p.x\n",
    "        elif p.mu == 1:\n",
    "            distance_to_boundary = L-p.x\n",
    "\n",
    "        #tally if distance to collision is greater than distance to boundary\n",
    "        if distance_to_collision > distance_to_boundary:\n",
    "            if p.mu == -1:\n",
    "                tally[0] += p.weight\n",
    "                p.alive = False\n",
    "            elif p.mu == 1:\n",
    "                tally[1] += p.weight\n",
    "                p.alive = False\n",
    "        else:\n",
    "            p.x += p.mu*distance_to_collision\n",
    "            if random.random() < sigmaA/sigmaT: #absorbed\n",
    "                p.alive = False\n",
    "            elif random.random() < 0.5: #backscatter\n",
    "                    p.mu *= -1\n",
    "\n",
    "    #return weighted sum and tally\n",
    "    left_bias = bias[0]\n",
    "    right_bias = bias[1]\n",
    "    return [left_bias*tally[0]+right_bias*tally[1], left_bias*tally[0], right_bias*tally[1]]"
   ]
  },
  {
   "cell_type": "markdown",
   "id": "8bab9415",
   "metadata": {},
   "source": [
    "##### Normal inputs\n",
    "\n",
    "Cross sections: $\\sigma_s$, $\\sigma_a$ \n",
    "\n",
    "Source strength: $q_0$\n",
    "\n",
    "Width of slab: $L$\n",
    "\n",
    "Width of source: $W$\n",
    "\n",
    "Number of history: $N$\n",
    "\n",
    "##### Normal outputs\n",
    "\n",
    "Total tally, Tally left, Tally right"
   ]
  },
  {
   "cell_type": "code",
   "execution_count": 4,
   "id": "32bb0bf0",
   "metadata": {},
   "outputs": [],
   "source": [
    "def mc_normal(sigmaS, sigmaA, q, W, L, N):\n",
    "    sigmaT = sigmaS + sigmaA\n",
    "    tally = np.zeros(2)   \n",
    "        \n",
    "    for i in range(N):\n",
    "        #create particle\n",
    "        x = W * np.random.random()\n",
    "        mu = np.random.random()\n",
    "        if mu < 0.5:\n",
    "            mu = -1\n",
    "        else:\n",
    "            mu = 1\n",
    "        p = particle(True, mu, x, q)\n",
    "\n",
    "        while p.alive:\n",
    "            #calculate distance to collision\n",
    "            distance_to_collision = abs(-np.log(np.random.random())/sigmaT)\n",
    "\n",
    "            #calculate distance to boundary\n",
    "            if p.mu == -1:\n",
    "                distance_to_boundary = p.x\n",
    "            elif p.mu == 1:\n",
    "                distance_to_boundary = L-p.x\n",
    "\n",
    "            #tally if distance to collision is greater than distance to boundary\n",
    "            if distance_to_collision > distance_to_boundary:\n",
    "                if p.mu == -1:\n",
    "                    tally[0] += p.weight\n",
    "                    p.alive = False\n",
    "                elif p.mu == 1:\n",
    "                    tally[1] += p.weight\n",
    "                    p.alive = False\n",
    "            else:\n",
    "                p.x += p.mu*distance_to_collision\n",
    "                if np.random.random() < sigmaA/sigmaT: #absorbed\n",
    "                    p.alive = False\n",
    "                elif random.random() < 0.5: #backscatter\n",
    "                        p.mu *= -1\n",
    "\n",
    "    #return weighted sum and tally\n",
    "    return [sum(tally)/N, tally[0]/N, tally[1]/N]"
   ]
  },
  {
   "cell_type": "markdown",
   "id": "8b3da8e6",
   "metadata": {},
   "source": [
    "##### QMC inputs\n",
    "\n",
    "Cross sections: $\\sigma_s$, $\\sigma_a$ \n",
    "\n",
    "Source strength: $q_0$\n",
    "\n",
    "Width of slab: $L$\n",
    "\n",
    "Width of source: $W$\n",
    "\n",
    "Number of history: $N$\n",
    "\n",
    "##### QMC outputs\n",
    "\n",
    "Total tally, Tally left, Tally right"
   ]
  },
  {
   "cell_type": "code",
   "execution_count": 5,
   "id": "91e937cb",
   "metadata": {},
   "outputs": [],
   "source": [
    "def mc_halton(sigmaS, sigmaA, q, W, L, N):\n",
    "    sigmaT = sigmaS + sigmaA\n",
    "    tally = np.zeros(2)\n",
    "    \n",
    "    #Halton sequence sampler\n",
    "    sampler = qmc.Halton(1, scramble=True)\n",
    "        \n",
    "    for i in range(N):\n",
    "        \n",
    "        #create particle\n",
    "        x = W * sampler.random()\n",
    "        mu = np.random.random()\n",
    "        if mu < 0.5:\n",
    "            mu = -1\n",
    "        else:\n",
    "            mu = 1\n",
    "        p = particle(True, mu, x, q)\n",
    "\n",
    "        while p.alive:\n",
    "            #calculate distance to collision\n",
    "            distance_to_collision = abs(-np.log(random.random())/sigmaT)\n",
    "\n",
    "            #calculate distance to boundary\n",
    "            if p.mu == -1:\n",
    "                distance_to_boundary = p.x\n",
    "            elif p.mu == 1:\n",
    "                distance_to_boundary = L-p.x\n",
    "\n",
    "            #tally if distance to collision is greater than distance to boundary\n",
    "            if distance_to_collision > distance_to_boundary:\n",
    "                if p.mu == -1:\n",
    "                    tally[0] += p.weight\n",
    "                    p.alive = False\n",
    "                elif p.mu == 1:\n",
    "                    tally[1] += p.weight\n",
    "                    p.alive = False\n",
    "            else:\n",
    "                p.x += p.mu*distance_to_collision\n",
    "                if random.random() < sigmaA/sigmaT: #absorbed\n",
    "                    p.alive = False\n",
    "                elif random.random() < 0.5: #backscatter\n",
    "                        p.mu *= -1\n",
    "\n",
    "    #return weighted sum and tally\n",
    "    return [sum(tally)/N, tally[0]/N, tally[1]/N]"
   ]
  },
  {
   "cell_type": "markdown",
   "id": "5f2c8092",
   "metadata": {},
   "source": [
    "### Normal Monte Carlo"
   ]
  },
  {
   "cell_type": "code",
   "execution_count": 12,
   "id": "335f9b50",
   "metadata": {},
   "outputs": [
    {
     "name": "stdout",
     "output_type": "stream",
     "text": [
      "Total leakage tally =  0.97638\n",
      "Left leakage tally =  0.48693\n",
      "Right leakage tally =  0.48945\n",
      "ratio of leakage Left =  0.4987\n",
      "ratio of leakage Right =  0.5013\n"
     ]
    }
   ],
   "source": [
    "sigmaS = 5\n",
    "sigmaA = .2\n",
    "q = 3\n",
    "L = 5\n",
    "W = 5\n",
    "\n",
    "tally = mc_normal(sigmaS, sigmaA, q, W, L, 100000)\n",
    "\n",
    "print('Total leakage tally = ', tally[0])\n",
    "print('Left leakage tally = ', tally[1])\n",
    "print('Right leakage tally = ', tally[2])\n",
    "\n",
    "print('ratio of leakage Left = ', round(tally[1]/tally[0], 4))\n",
    "print('ratio of leakage Right = ', round(tally[2]/tally[0], 4))"
   ]
  },
  {
   "cell_type": "markdown",
   "id": "c97b0ce5",
   "metadata": {},
   "source": [
    "### Quasi Monte Carlo"
   ]
  },
  {
   "cell_type": "code",
   "execution_count": 14,
   "id": "982e7212",
   "metadata": {},
   "outputs": [
    {
     "name": "stdout",
     "output_type": "stream",
     "text": [
      "Total leakage tally =  0.98172\n",
      "Left leakage tally =  0.49434\n",
      "Right leakage tally =  0.48738\n",
      "ratio of leakage Left =  0.5035\n",
      "ratio of leakage Right =  0.4965\n"
     ]
    }
   ],
   "source": [
    "sigmaS = 5\n",
    "sigmaA = .2\n",
    "q = 3\n",
    "L = 5\n",
    "W = 5\n",
    "\n",
    "tally = mc_halton(sigmaS, sigmaA, q, W, L, 100000)\n",
    "\n",
    "print('Total leakage tally = ', tally[0])\n",
    "print('Left leakage tally = ', tally[1])\n",
    "print('Right leakage tally = ', tally[2])\n",
    "\n",
    "print('ratio of leakage Left = ', round(tally[1]/tally[0], 4))\n",
    "print('ratio of leakage Right = ', round(tally[2]/tally[0], 4))"
   ]
  },
  {
   "cell_type": "markdown",
   "id": "5a21cb02",
   "metadata": {},
   "source": [
    "### VEGAS Monte Carlo"
   ]
  },
  {
   "cell_type": "markdown",
   "id": "f30767f4",
   "metadata": {},
   "source": [
    "\n",
    "The VEGAS algorithm is based on importance sampling following the equation\n",
    "\n",
    "$$\n",
    "I = \\int_D \\frac{f(x)}{f^*(x)} f^*(x) dx\n",
    "$$\n",
    "\n",
    "VEGAS's main goal is to minimize the statistical error of the Monte Carlo estimate of $I$. However without knowing the analytical solution, the exact $f^*$ can not be calculated in one step or even at all. In order to accurately estimate $f^*$ VEGAS employs an iterative technique where it adapts $f^*$ every iteration in an attempt to minimize the error.\n",
    "\n",
    "Every iteration VEGAS approximates this new $f^*$ with a set of histograms to create a sampling distribution for the following pass. VEGAS also ensures that each newly created bin has an equiprobable chance of being sampled. Such a tactic, accurately called equiprobable bins, reduces the memory needs of the algorithm by limiting the histogramming to a set of $B$ bins. Once the per-iteration error stops decreasing VEGAS has acheived an accurate mapping of the $f^*$ function and can then produce a Monte Carlo estimate of the initial integrand $f$ using the new importance sampling parameters. \n",
    "\n",
    "Since VEGAS begins each set of iterations with no information on the integrand it is common for the initial set of estimates to be wildy incorrect. In that case it is possible to first \"train\" the algorithm on a throwaway set of iterations, discard the results, and then run the real evalution. This method can even be adapted to more complex cases where the algorithm can be trained on a simpler radiography example and then applied to the more complex problem. This technique will reduce run time as well as produce more accurate estiamtes."
   ]
  },
  {
   "cell_type": "code",
   "execution_count": 13,
   "id": "3a583feb",
   "metadata": {},
   "outputs": [
    {
     "name": "stdout",
     "output_type": "stream",
     "text": [
      "itn   integral        wgt average     chi2/dof        Q\n",
      "-------------------------------------------------------\n",
      "  1   0.982(13)       0.982(13)           0.00     1.00\n",
      "  2   0.984(15)       0.9827(96)          0.03     0.99\n",
      "  3   0.971(17)       0.9797(84)          0.16     0.99\n",
      "  4   0.992(17)       0.9819(75)          0.21     0.99\n",
      "  5   1.000(16)       0.9851(68)          0.38     0.97\n",
      "  6   0.952(17)       0.9804(63)          0.58     0.90\n",
      "  7   0.960(15)       0.9775(58)          0.60     0.91\n",
      "  8   0.954(17)       0.9749(55)          0.62     0.91\n",
      "  9   0.954(17)       0.9728(52)          0.61     0.93\n",
      " 10   0.974(17)       0.9729(50)          0.55     0.97\n",
      "\n",
      "Total leakage =  0.9729(50)\n",
      "Left leakage =  0.4909(36)\n",
      "Right leakage =  0.4820(36)\n",
      "ratio of leakage Left =  0.5046(27)\n",
      "ratio of leakage Right =  0.4954(27)\n"
     ]
    }
   ],
   "source": [
    "sigmaS = 5\n",
    "sigmaA = .2\n",
    "q = 3\n",
    "L = 5\n",
    "W = 5\n",
    "bias = [.5,.5]\n",
    "\n",
    "def f(x):\n",
    "    return mc_vegas(sigmaS, sigmaA, q, L, x[0], x[1], bias)\n",
    "    \n",
    "integ = vegas.Integrator([[0, W], [-1,1]])\n",
    "\n",
    "result = integ(f, nitn=10, neval=10000)\n",
    "print(result.summary())\n",
    "print('Total leakage = ', result[0])\n",
    "print('Left leakage = ', result[1])\n",
    "print('Right leakage = ', result[2])\n",
    "\n",
    "print('ratio of leakage Left = ', result[1]/result[0])\n",
    "print('ratio of leakage Right = ', result[2]/result[0])"
   ]
  },
  {
   "cell_type": "markdown",
   "id": "2c120028",
   "metadata": {},
   "source": [
    "We can see that both the normal Monte Carlo and VEGAS Monte Carlo provide the same result for this test problem. They both approximate about 80% of leakage occurs out the left while 20% of particles leak out the right. This of course does not include the particles lost to absorbtion"
   ]
  },
  {
   "cell_type": "markdown",
   "id": "e5678a82",
   "metadata": {},
   "source": [
    "#### Vegas Mapping"
   ]
  },
  {
   "cell_type": "markdown",
   "id": "443cd9b7",
   "metadata": {},
   "source": [
    "All bins are equiprobable. The evenly spaced bins show that the Monte Carlo function is sampling from an even distribution across space (x-axis) and angle (y-axis)."
   ]
  },
  {
   "cell_type": "code",
   "execution_count": 9,
   "id": "e5a5dac3",
   "metadata": {
    "scrolled": true
   },
   "outputs": [
    {
     "data": {
      "image/png": "[encoded data removed]",
      "text/plain": [
       "<Figure size 432x288 with 1 Axes>"
      ]
     },
     "metadata": {
      "needs_background": "light"
     },
     "output_type": "display_data"
    }
   ],
   "source": [
    "integ.map.show_grid(30)"
   ]
  },
  {
   "cell_type": "code",
   "execution_count": 10,
   "id": "fb8c82a3",
   "metadata": {},
   "outputs": [
    {
     "name": "stdout",
     "output_type": "stream",
     "text": [
      "itn   integral        wgt average     chi2/dof        Q\n",
      "-------------------------------------------------------\n",
      "  1   0.1231(47)      0.1231(47)          0.00     1.00\n",
      "  2   0.1273(85)      0.1241(41)          0.06     0.98\n",
      "  3   0.1299(64)      0.1258(35)          0.13     0.99\n",
      "  4   0.1157(48)      0.1224(28)          0.40     0.93\n",
      "  5   0.1193(39)      0.1213(23)          0.34     0.98\n",
      "  6   0.1184(38)      0.1206(20)          0.30     1.00\n",
      "  7   0.124(10)       0.1207(19)          0.25     1.00\n",
      "  8   0.1153(28)      0.1189(16)          0.34     1.00\n",
      "  9   0.1235(41)      0.1195(15)          0.34     1.00\n",
      " 10   0.1227(33)      0.1200(13)          0.33     1.00\n",
      "\n",
      "Total leakage =  0.1200(13)\n",
      "Left leakage =  0.1200(13)\n",
      "Right leakage =  0(0)\n",
      "ratio of leakage Left =  1.00000000000(12)\n",
      "ratio of leakage Right =  0(0)\n"
     ]
    }
   ],
   "source": [
    "sigmaS = 5\n",
    "sigmaA = 3\n",
    "q = 3\n",
    "L = 5\n",
    "W = 3\n",
    "bias = [.5,.5]\n",
    "\n",
    "def f(x):\n",
    "    return mc_vegas(sigmaS, sigmaA, q, L, x[0], x[1], bias)\n",
    "    \n",
    "integ = vegas.Integrator([[0, W], [-1,1]])\n",
    "\n",
    "result = integ(f, nitn=10, neval=10000)\n",
    "print(result.summary())\n",
    "print('Total leakage = ', result[0])\n",
    "print('Left leakage = ', result[1])\n",
    "print('Right leakage = ', result[2])\n",
    "\n",
    "print('ratio of leakage Left = ', result[1]/result[0])\n",
    "print('ratio of leakage Right = ', result[2]/result[0])"
   ]
  },
  {
   "cell_type": "code",
   "execution_count": 11,
   "id": "34ca86d9",
   "metadata": {},
   "outputs": [
    {
     "data": {
      "image/png": "[encoded data removed]",
      "text/plain": [
       "<Figure size 432x288 with 1 Axes>"
      ]
     },
     "metadata": {
      "needs_background": "light"
     },
     "output_type": "display_data"
    }
   ],
   "source": [
    "integ.map.show_grid(30)"
   ]
  },
  {
   "cell_type": "markdown",
   "id": "aeff7216",
   "metadata": {},
   "source": [
    "No left/right bias, source from 0 to 3, highly absorbing\n",
    "\n",
    "We can see that VEGAS biases the angle as well as the position. So most particles are spawned between 0 and 0.5 with a direction pointing to the left. All angles sampled between (0, 1) are equivalent to a $\\mu$ of 1 while all angles pointing in the negative direction produce a $\\mu$ of -1. This causes VEGAS to only care about the distinction between positive or negative and not bias any further. "
   ]
  },
  {
   "cell_type": "code",
   "execution_count": null,
   "id": "d3e46e90",
   "metadata": {},
   "outputs": [],
   "source": []
  }
 ],
 "metadata": {
  "kernelspec": {
   "display_name": "Python 3 (ipykernel)",
   "language": "python",
   "name": "python3"
  },
  "language_info": {
   "codemirror_mode": {
    "name": "ipython",
    "version": 3
   },
   "file_extension": ".py",
   "mimetype": "text/x-python",
   "name": "python",
   "nbconvert_exporter": "python",
   "pygments_lexer": "ipython3",
   "version": "3.8.12"
  }
 },
 "nbformat": 4,
 "nbformat_minor": 5
}
