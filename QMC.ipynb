{
 "cells": [
  {
   "cell_type": "code",
   "execution_count": 1,
   "id": "1eb1cb53",
   "metadata": {},
   "outputs": [],
   "source": [
    "import numpy as np\n",
    "import numpy.random as random\n",
    "from scipy.stats import qmc\n",
    "import matplotlib.pyplot as plt"
   ]
  },
  {
   "cell_type": "markdown",
   "id": "31dd7d50",
   "metadata": {},
   "source": [
    "## 1D Sampling"
   ]
  },
  {
   "cell_type": "code",
   "execution_count": 2,
   "id": "9d15ef9b",
   "metadata": {},
   "outputs": [],
   "source": [
    "sampler1d = qmc.Halton(1, scramble=True)"
   ]
  },
  {
   "cell_type": "code",
   "execution_count": 3,
   "id": "908dd6b9",
   "metadata": {},
   "outputs": [],
   "source": [
    "def sample1d(N, moment):\n",
    "    u = random.random(N)\n",
    "    h = sampler1d.random(n=N)\n",
    "\n",
    "    rand = np.zeros(N)\n",
    "    halton = np.zeros(N)\n",
    "\n",
    "    for i in range(N):\n",
    "        rand[i] = np.cbrt(u[i])\n",
    "        halton[i] = np.cbrt(h[i][0])\n",
    "        \n",
    "    return np.mean(np.power(rand, moment)), np.mean(np.power(halton, moment))"
   ]
  },
  {
   "cell_type": "markdown",
   "id": "62c08c8a",
   "metadata": {},
   "source": [
    "#### Plotting"
   ]
  },
  {
   "cell_type": "code",
   "execution_count": 9,
   "id": "398d3da8",
   "metadata": {},
   "outputs": [],
   "source": [
    "moment = 1\n",
    "rand_rate = []\n",
    "halton_rate = []\n",
    "\n",
    "for i in range(5):\n",
    "    N = 10**(i+4)\n",
    "    N_1 = 10**(3)\n",
    "    \n",
    "    rand_rate = np.append(rand_rate, abs(sample1d(N_1, moment)[0] - .75) / abs(sample1d(N, moment)[0] - .75))\n",
    "    halton_rate = np.append(halton_rate, abs(sample1d(N_1, moment)[1] - .75) / abs(sample1d(N, moment)[1] - .75))"
   ]
  },
  {
   "cell_type": "code",
   "execution_count": 11,
   "id": "10412a82",
   "metadata": {},
   "outputs": [
    {
     "data": {
      "image/png": "[encoded data removed]",
      "text/plain": [
       "<Figure size 432x288 with 1 Axes>"
      ]
     },
     "metadata": {
      "needs_background": "light"
     },
     "output_type": "display_data"
    }
   ],
   "source": [
    "x = [10**1,10**2,10**3,10**4,10**5]\n",
    "plt.plot(x, rand_rate, label='Random')\n",
    "plt.plot(x, halton_rate, label='Halton')\n",
    "plt.legend()\n",
    "plt.xlabel('N')\n",
    "plt.ylabel('Rate of Convergence')\n",
    "plt.xscale('log')\n",
    "plt.yscale('log')"
   ]
  },
  {
   "cell_type": "markdown",
   "id": "25fca086",
   "metadata": {},
   "source": [
    "##### First moment convergence"
   ]
  },
  {
   "cell_type": "markdown",
   "id": "e6d7555b",
   "metadata": {},
   "source": [
    "Converging to $$\\int_0^1 \\sqrt[3]{x} \\, dx = 0.75$$"
   ]
  },
  {
   "cell_type": "code",
   "execution_count": 12,
   "id": "d18911bd",
   "metadata": {},
   "outputs": [
    {
     "name": "stdout",
     "output_type": "stream",
     "text": [
      "Pseudo random convergence rate: 19.514029974619426\n",
      "Halton random convergence rate: 496.2444126376825\n"
     ]
    }
   ],
   "source": [
    "moment = 1\n",
    "\n",
    "rand_rate = abs(sample1d(1000, moment)[0] - .75) / abs(sample1d(1000000, moment)[0] - .75)\n",
    "halton_rate = abs(sample1d(1000, moment)[1] - .75) / abs(sample1d(1000000, moment)[1] - .75)\n",
    "\n",
    "print('Pseudo random convergence rate:', rand_rate)\n",
    "      \n",
    "print('Halton random convergence rate:', halton_rate)"
   ]
  },
  {
   "cell_type": "markdown",
   "id": "f6fb9077",
   "metadata": {},
   "source": [
    "###### Second moment convergence"
   ]
  },
  {
   "cell_type": "markdown",
   "id": "832ca419",
   "metadata": {},
   "source": [
    "Converging to $$\\int_0^1 \\sqrt[3]{x^2} \\, dx = 0.6$$"
   ]
  },
  {
   "cell_type": "code",
   "execution_count": 566,
   "id": "874e5512",
   "metadata": {},
   "outputs": [
    {
     "name": "stdout",
     "output_type": "stream",
     "text": [
      "Pseudo random convergence rate: 45.87119855043671\n",
      "Halton random convergence rate: 384.15554509551004\n"
     ]
    }
   ],
   "source": [
    "moment = 2\n",
    "\n",
    "rand_rate = abs(sample1d(10000, moment)[0] - .6) / abs(sample1d(1000000, moment)[0] - .6)\n",
    "halton_rate = abs(sample1d(10000, moment)[1] - .6) / abs(sample1d(1000000, moment)[1] - .6)\n",
    "\n",
    "print('Pseudo random convergence rate:', rand_rate)\n",
    "      \n",
    "print('Halton random convergence rate:', halton_rate)"
   ]
  },
  {
   "cell_type": "markdown",
   "id": "9d8f746c",
   "metadata": {},
   "source": [
    "##### Third moment convergence"
   ]
  },
  {
   "cell_type": "markdown",
   "id": "ea0b6b92",
   "metadata": {},
   "source": [
    "Converging to $$\\int_0^1 \\sqrt[3]{x^3} \\, dx = 0.5$$"
   ]
  },
  {
   "cell_type": "code",
   "execution_count": 568,
   "id": "c4fe2a53",
   "metadata": {},
   "outputs": [
    {
     "name": "stdout",
     "output_type": "stream",
     "text": [
      "Pseudo random convergence rate: 14.320032828605175\n",
      "Halton random convergence rate: 77.59463762367584\n"
     ]
    }
   ],
   "source": [
    "moment = 3\n",
    "\n",
    "rand_rate = abs(sample1d(10000, moment)[0] - .5) / abs(sample1d(1000000, moment)[0] - .5)\n",
    "halton_rate = abs(sample1d(10000, moment)[1] - .5) / abs(sample1d(1000000, moment)[1] - .5)\n",
    "\n",
    "print('Pseudo random convergence rate:', rand_rate)\n",
    "      \n",
    "print('Halton random convergence rate:', halton_rate)"
   ]
  },
  {
   "cell_type": "markdown",
   "id": "2dd6d7be",
   "metadata": {},
   "source": [
    "##### Fourth moment convergence"
   ]
  },
  {
   "cell_type": "markdown",
   "id": "1b69c84a",
   "metadata": {},
   "source": [
    "Converging to $$\\int_0^1 \\sqrt[3]{x^4} \\, dx = \\frac{3}{7}$$"
   ]
  },
  {
   "cell_type": "code",
   "execution_count": 569,
   "id": "53e4130b",
   "metadata": {},
   "outputs": [
    {
     "name": "stdout",
     "output_type": "stream",
     "text": [
      "Pseudo random convergence rate: 3.1099651314767156\n",
      "Halton random convergence rate: 43.73573914443075\n"
     ]
    }
   ],
   "source": [
    "moment = 4\n",
    "\n",
    "rand_rate = abs(sample1d(10000, moment)[0] - (3/7)) / abs(sample1d(1000000, moment)[0] - (3/7))\n",
    "halton_rate = abs(sample1d(10000, moment)[1] - (3/7)) / abs(sample1d(1000000, moment)[1] - (3/7))\n",
    "\n",
    "print('Pseudo random convergence rate:', rand_rate)\n",
    "      \n",
    "print('Halton random convergence rate:', halton_rate)"
   ]
  },
  {
   "cell_type": "markdown",
   "id": "748feb08",
   "metadata": {},
   "source": [
    "## 3D Sampling"
   ]
  },
  {
   "cell_type": "code",
   "execution_count": 527,
   "id": "524200c4",
   "metadata": {},
   "outputs": [],
   "source": [
    "sampler3d = qmc.Halton(3, scramble=False)"
   ]
  },
  {
   "cell_type": "code",
   "execution_count": 533,
   "id": "16da14c1",
   "metadata": {},
   "outputs": [],
   "source": [
    "def sample3d(N, moment):\n",
    "    u = random.random(N)\n",
    "    h = sampler3d.random(n=N)\n",
    "\n",
    "    rand = np.zeros(N)\n",
    "    halton = np.zeros(N)\n",
    "\n",
    "    for i in range(N):\n",
    "        rand[i] = np.cbrt(u[i])\n",
    "        halton[i] = np.cbrt(h[i][0])\n",
    "        \n",
    "    return np.mean(np.power(rand, moment)), np.mean(np.power(halton, moment))"
   ]
  },
  {
   "cell_type": "code",
   "execution_count": null,
   "id": "2f642204",
   "metadata": {},
   "outputs": [],
   "source": []
  }
 ],
 "metadata": {
  "kernelspec": {
   "display_name": "Python 3 (ipykernel)",
   "language": "python",
   "name": "python3"
  },
  "language_info": {
   "codemirror_mode": {
    "name": "ipython",
    "version": 3
   },
   "file_extension": ".py",
   "mimetype": "text/x-python",
   "name": "python",
   "nbconvert_exporter": "python",
   "pygments_lexer": "ipython3",
   "version": "3.8.12"
  }
 },
 "nbformat": 4,
 "nbformat_minor": 5
}
